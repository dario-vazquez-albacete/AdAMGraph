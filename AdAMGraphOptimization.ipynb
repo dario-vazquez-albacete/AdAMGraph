{
 "cells": [
  {
   "cell_type": "code",
   "execution_count": 34,
   "metadata": {},
   "outputs": [
    {
     "name": "stdout",
     "output_type": "stream",
     "text": [
      "Driver successfully created\n",
      "SUCCESS: Connected to the Neo4j Database.\n"
     ]
    }
   ],
   "source": [
    "import pandas as pd\n",
    "from py2neo import Graph\n",
    "import os\n",
    "import json\n",
    "from Classes import Neo4jConnection\n",
    "\n",
    "# create connection object using neo4j\n",
    "with open(\"config.json\") as json_data_file:\n",
    "    data = json.load(json_data_file)\n",
    "conn = Neo4jConnection(uri=data[\"uri\"], \n",
    "                       user=data[\"user\"],              \n",
    "                       pwd=data[\"pwd\"])\n",
    "\n",
    "\n",
    "# use py4neo client connection to benchmark\n",
    "try:\n",
    "    graph = Graph(data[\"uri\"], auth=(data[\"user\"], data[\"pwd\"]))\n",
    "    print('SUCCESS: Connected to the Neo4j Database.')\n",
    "except Exception as e:\n",
    "    print('ERROR: Could not connect to the Neo4j Database. See console for details.')\n",
    "    raise SystemExit(e)\n",
    "\n",
    "\n",
    "# assign directory\n",
    "directory = './phuse-scripts/data/adam/TDF_ADaM_v1.0/'\n",
    "# giving file extension\n",
    "ext = ('.xpt')\n",
    "# create empty list to dataset names\n",
    "dataset_list = list()\n",
    "\n",
    "# iterate over all files with SAS extension\n",
    "for files in os.listdir(directory):\n",
    "    if files.endswith(ext):\n",
    "        m=files.split(sep='.')[0]\n",
    "        if type(m) != 'NoneType':\n",
    "            # append dataset name to list\n",
    "            dataset_list.append(m)\n",
    "        # assign datasetname to dataframe name (not a good practice)\n",
    "        globals()[m] = pd.read_sas(directory+files,format='xport') \n",
    "    else:\n",
    "        continue\n",
    "\n",
    "# cleaning wrong data types\n",
    "adsl['USUBJID'] = adsl['USUBJID'].str.decode(\"utf-8\").fillna(adsl['USUBJID']) \n",
    "adsl['SEX'] = adsl['SEX'].str.decode(\"utf-8\").fillna(adsl['SEX']) \n",
    "adsl['ARM'] = adsl['ARM'].str.decode(\"utf-8\").fillna(adsl['ARM']) \n",
    "adsl_df = adsl[['USUBJID', 'AGE', 'SEX', 'ARM', 'BMIBL']]\n"
   ]
  },
  {
   "cell_type": "code",
   "execution_count": 10,
   "metadata": {},
   "outputs": [
    {
     "name": "stdout",
     "output_type": "stream",
     "text": [
      "19 ms ± 4.46 ms per loop (mean ± std. dev. of 7 runs, 1 loop each)\n"
     ]
    }
   ],
   "source": [
    "def create_patients_nodes(df):\n",
    "    # Adds patient nodes to the Neo4j graph.\n",
    "    query = '''\n",
    "    UNWIND $rows as row\n",
    "    CREATE (p:Patient {USUBJID: row.USUBJID, AGE: row.AGE, ARM:row.ARM, SEX: row.SEX, BMI: row.BMIBL})\n",
    "    '''\n",
    "    return conn.query(query, parameters = {'rows': df.to_dict('records')})\n",
    "%timeit create_patients_nodes(adsl_df)"
   ]
  },
  {
   "cell_type": "code",
   "execution_count": 9,
   "metadata": {},
   "outputs": [
    {
     "name": "stdout",
     "output_type": "stream",
     "text": [
      "717 ms ± 69.5 ms per loop (mean ± std. dev. of 7 runs, 1 loop each)\n"
     ]
    }
   ],
   "source": [
    "%%timeit \n",
    "for row in adsl_df.itertuples():\n",
    "        graph.run('''\n",
    "        CREATE (:Patient {USUBJID: $USUBJID, AGE: $AGE, ARM:$ARM, SEX: $SEX, BMI: $BMI})\n",
    "        ''', parameters = {'USUBJID': row.USUBJID, 'AGE': row.AGE, 'ARM': row.ARM, 'SEX': row.SEX, 'BMI': row.BMIBL})"
   ]
  },
  {
   "cell_type": "code",
   "execution_count": 33,
   "metadata": {},
   "outputs": [
    {
     "name": "stdout",
     "output_type": "stream",
     "text": [
      "22.3 ms ± 994 µs per loop (mean ± std. dev. of 7 runs, 100 loops each)\n"
     ]
    }
   ],
   "source": [
    "%%timeit\n",
    "adsl_df.to_csv('C:/Temp/dropzone/adsl.csv', encoding='utf-8', index=False)\n",
    "query = '''\n",
    "    LOAD CSV WITH HEADERS FROM \"file:///C:/Temp/dropzone/adsl.csv\" AS row\n",
    "    CREATE (p:Patient {USUBJID: row.USUBJID, AGE: row.AGE, ARM:row.ARM, SEX: row.SEX, BMI: row.BMIBL})\n",
    "    '''\n",
    "conn.query(query, parameters = {})"
   ]
  },
  {
   "cell_type": "code",
   "execution_count": null,
   "metadata": {},
   "outputs": [],
   "source": [
    "def create_patients_nodes(df):\n",
    "    # Adds patient nodes to the Neo4j graph.\n",
    "    query = '''\n",
    "    UNWIND $rows as row\n",
    "    CREATE (p:Patient {USUBJID: row.USUBJID, AGE: row.AGE, ARM:row.ARM, SEX: row.SEX, BMI: row.BMIBL})\n",
    "    '''\n",
    "    return conn.query(query, parameters = {'rows': df.to_dict('records')})\n",
    "\n",
    "def create_treatment_nodes(treatment_set):\n",
    "    # Adds treatment nodes to the Neo4j graph form a python set of unique values\n",
    "    for i in treatment_set:\n",
    "        query = '''\n",
    "        CREATE (t:Treatment {Name: $ARM})\n",
    "        '''\n",
    "        return conn.query(query, parameters = {'ARM': i})\n",
    " \n",
    "def create_adverseevent_nodes(event_set):\n",
    "# Adds treatment nodes to the Neo4j graph form a python set of unique values\n",
    "    for i in event_set:\n",
    "        query = '''\n",
    "        CREATE (ae:AdverseEvent {Term: $Term})\n",
    "        '''\n",
    "        return conn.query(query, parameters = {'Term': i})\n",
    "    \n",
    "def create_visit_nodes(visits_set):\n",
    "# Adds visit nodes to the Neo4j graph form a python set of unique values\n",
    "    for i in visits_set:\n",
    "        query = '''\n",
    "        CREATE (v:Visit {Name: $Name})\n",
    "        '''\n",
    "        return conn.query(query, parameters = {'Name': i})\n",
    "    \n",
    "def create_chemlab_nodes(df):\n",
    "    # Adds chemical laboratory measurements nodes to the Neo4j graph.\n",
    "    query = '''\n",
    "    UNWIND $rows as row\n",
    "    CREATE (p:Parameter {USUBJID: row.USUBJID, VISIT: row.VISIT, Laboratory: row.PARCAT1, Parameter: row.PARAM, Value: row.AVAL, Reference: row.LBNRIND, Dataset: 'adlbc'})\n",
    "    '''\n",
    "    return conn.query(query, parameters = {'rows': df.to_dict('records')})\n",
    "\n",
    "def create_chemlab_nodes(df):\n",
    "    # Adds hematology laboratory measurements nodes to the Neo4j graph.\n",
    "    query = '''\n",
    "    UNWIND $rows as row\n",
    "    CREATE (p:Parameter {USUBJID: row.USUBJID, VISIT: row.VISIT, Laboratory: row.PARCAT1, Parameter: row.PARAM, Value: row.AVAL, Reference: row.LBNRIND, Dataset: 'adlbh'})\n",
    "    '''\n",
    "    return conn.query(query, parameters = {'rows': df.to_dict('records')})\n",
    "\n",
    "def create_hemlab_nodes(df):\n",
    "    # Adds hematology laboratory measurements nodes to the Neo4j graph.\n",
    "    query = '''\n",
    "    UNWIND $rows as row\n",
    "    CREATE (vs:VitalSign {USUBJID: row.USUBJID, VISIT: row.VISIT, Laboratory: 'VS', Parameter: row.PARAM, Value: row.AVAL, Reference: '', Dataset: 'adlvs'})\n",
    "    '''\n",
    "    return conn.query(query, parameters = {'rows': df.to_dict('records')})\n",
    "\n",
    "def create_adadas_nodes(df):\n",
    "    # Adds ADADAS endpoint nodes\n",
    "    query = '''\n",
    "    UNWIND $rows as row\n",
    "    CREATE (ep:Endpoint {USUBJID: row.USUBJID, VISIT: row.VISIT, EndpointName: 'ADAS-Cog', Parameter: row.PARAM, Value: row.AVAL, Reference: '', Dataset: 'adadas'})\n",
    "    '''\n",
    "    return conn.query(query, parameters = {'rows': df.to_dict('records')})\n",
    "\n",
    "def create_cibic_nodes(df):\n",
    "    # Adds ADADAS endpoint nodes\n",
    "    query = '''\n",
    "    UNWIND $rows as row\n",
    "    CREATE (ep:Endpoint {USUBJID: row.USUBJID, VISIT: row.VISIT, EndpointName: 'CIBIC Score', Parameter: row.PARAM, Value: row.AVAL, Reference: '', Dataset: 'adcibc'})\n",
    "    '''\n",
    "    return conn.query(query, parameters = {'rows': df.to_dict('records')})\n",
    "\n",
    "\n",
    "visits = set(adlbc['VISIT'])\n",
    "treatments = set(adsl['ARM'])\n",
    "adverse_event = set(adae['AETERM'])  \n"
   ]
  }
 ],
 "metadata": {
  "kernelspec": {
   "display_name": "Python 3",
   "language": "python",
   "name": "python3"
  },
  "language_info": {
   "codemirror_mode": {
    "name": "ipython",
    "version": 3
   },
   "file_extension": ".py",
   "mimetype": "text/x-python",
   "name": "python",
   "nbconvert_exporter": "python",
   "pygments_lexer": "ipython3",
   "version": "3.10.0"
  },
  "orig_nbformat": 4
 },
 "nbformat": 4,
 "nbformat_minor": 2
}
